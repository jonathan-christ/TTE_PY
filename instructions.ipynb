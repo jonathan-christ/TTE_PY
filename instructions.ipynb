{
 "cells": [
  {
   "cell_type": "markdown",
   "metadata": {},
   "source": [
    "# **Assignment 1 for Clustering**\n",
    "---\n",
    "## 💡 **Background**\n",
    "<p>\n",
    "New and novel methods in Machine Learning are made either by borrowing formulas and concepts from other scientific fields and redefining it based on new sets of assumptions, or by adding an extra step to an already existing framework of methodology.\n",
    "\n",
    "In this exercise (Assignment 1 of the Clustering Topic), we will try to develop a novel method of Target Trial Emulation by integrating concepts of Clustering into the already existing framework. Target Trial Emulation is a new methodological framework in epidemiology which tries to account for the biases in old and traditional designs.\n",
    "</p><br>\n",
    "\n",
    "\n",
    "---\n",
    "## 📝 **Instructions**\n",
    "<ol>\n",
    "    <li> <b>Look at this website</b>: <u>https://rpubs.com/alanyang0924/TTE</u></li>\n",
    "    <li> <b>Extract the dummy data</b> in the package and save it as \"data_censored.csv\"</li>\n",
    "    <li> <b>Convert the R codes into Python Codes</b> (use Jupyter Notebook), replicate the results using your python code.</li>\n",
    "    <li> <b>Create another copy of your Python Codes</b>, name it TTE-v2 (use Jupyter Notebook).</li>\n",
    "    <li> Using TTE-v2, <b>think of a creative way on where you would integrate a clustering mechanism</b>, understand each step carefully and decide at which step a clustering method can be implemented.<b> Generate insights from your results</b>.</li>\n",
    "    <li> Do this by pair, preferably your thesis partner.</li>\n",
    "    <li> Push to your github repository.</li>\n",
    "    <li> Deadline is 2 weeks from today:<b> February 28, 2025 at 11:59 pm</b>.</li>\n",
    "</ol>\n",
    "<br>\n",
    "\n",
    "---\n",
    "\n",
    "<style>\n",
    "    ol > li::marker {\n",
    "        font-weight: bold;\n",
    "    }\n",
    "</style>"
   ]
  }
 ],
 "metadata": {
  "language_info": {
   "name": "python"
  }
 },
 "nbformat": 4,
 "nbformat_minor": 2
}
